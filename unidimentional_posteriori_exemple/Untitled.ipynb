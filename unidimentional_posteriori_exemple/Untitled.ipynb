{
 "cells": [
  {
   "cell_type": "markdown",
   "id": "b5efe143-234a-4946-b269-0e5fc88ebb7c",
   "metadata": {},
   "source": [
    "## Modelo 1\n",
    "\n",
    "código de:\n",
    "- <https://www.bayesianmodelsforastrophysicaldata.com/code-4-7>\n",
    "- <https://github.com/astrobayes/BMAD/blob/master/chapter_4/code_4.7.py>"
   ]
  },
  {
   "cell_type": "markdown",
   "id": "7eac0ccb-c524-417d-812a-39aaeacc46d3",
   "metadata": {},
   "source": [
    "Abaixo: codigo que gera dados segundo normal(1, 4), entao calcula como isso afeta uma priori normal(0, 1) usando MCMC e depois calcula usando priori conjugada"
   ]
  },
  {
   "cell_type": "code",
   "execution_count": 4,
   "id": "5c2a553e-b334-4e0b-9c4a-c6019b26e79f",
   "metadata": {
    "tags": []
   },
   "outputs": [],
   "source": [
    "# From: Bayesian Models for Astrophysical Data, Cambridge Univ. Press\n",
    "# (c) 2017,  Joseph M. Hilbe, Rafael S. de Souza and Emille E. O. Ishida \n",
    "# \n",
    "# you are kindly asked to include the complete citation if you used this \n",
    "# material in a publication\n",
    "\n",
    "# Code 4.7 - Multivariate normal linear model in Python using Stan\n",
    "# 1 response (y) and 2 explanatory variables (x1, x2)\n",
    "\n",
    "# ^^ a implementação foi inspirada no autor acima\n",
    "\n",
    "import numpy as np\n",
    "import statsmodels.api as sm\n",
    "import stan\n",
    "from scipy.stats import uniform, norm\n",
    "import json\n",
    "# Data\n",
    "np.random.seed(1056)                 # set seed to replicate example\n",
    "\n",
    "\n",
    "\n",
    "nobs= livro.shape[0]                         # number of obs in model \n",
    "\n",
    "sample_data = 2*norm.rvs(size=100)+1 # sample data drawn from a normal(1, 2)\n",
    "\n",
    "X = np.column_stack((sample_data))        # create response matrix\n",
    "X = sm.add_constant(X)              # add intercept\n",
    "\n",
    "y = livro['x'].to_numpy() # agora faz regressão na abcissa do centro de massa calculado do corpo de prova\n",
    "\n",
    "# Fit\n",
    "data = {}                                # build data dictionary\n",
    "data['nobs'] = nobs                      # sample size\n",
    "data['x'] = X                            # explanatory variable         \n",
    "data['y'] = y                            # response variable\n",
    "data['k'] = data['x'].shape[1]       # number of explanatory variables\n",
    "\n",
    "# data = json.dumps(list(data))\n",
    "\n",
    "# data = data.to_json()\n",
    "\n",
    "\n",
    "\n",
    "# O QUE TA ACONTECENDO AAAAAAAAAAAAAAAAAAAAAAAAAAAAA\n",
    "\n",
    "\n",
    "\n",
    "\n",
    "# STAN code\n",
    "stan_code = \"\"\"\n",
    "data {\n",
    "    int<lower=1> k;  \n",
    "    int<lower=0> nobs;                                 \n",
    "    matrix[nobs, k] x;                     \n",
    "    vector[nobs] y;                     \n",
    "}\n",
    "parameters {\n",
    "    matrix[k,1] beta;                                             \n",
    "    real<lower=0> sigma;               \n",
    "}\n",
    "transformed parameters{\n",
    "    matrix[nobs,1] mu;\n",
    "    vector[nobs] mu2;\n",
    "\n",
    "    mu = x * beta;\n",
    "    mu2 = to_vector(mu);                 // normal distribution \n",
    "                                         // does not take matrices as input\n",
    "}\n",
    "model {\n",
    "    for (i in 1:k){                      // Diffuse normal priors for predictors\n",
    "        beta[i] ~ normal(0.0, 100);\n",
    "    }\n",
    "    sigma ~ gamma(76.083434761, 75.539775);           // A variância dos sensores nao é baixa mas eles são relativamente confiáveis\n",
    "    \n",
    "    y ~ normal(mu2, sigma);              // Likelihood function\n",
    "}\n",
    "\"\"\"\n",
    "\n",
    "\n",
    "\n",
    "# Compile model\n",
    "model = stan.build(stan_code, data)\n",
    "\n",
    "# perform fit\n",
    "fit1 = model.sample(num_chains=4, num_samples=1000)\n",
    "\n",
    "\n",
    "# Output\n",
    "nlines = 9                                   # number of lines in screen output\n",
    "\n",
    "output = str(fit1).split('\\n')\n",
    "for item in output[:nlines]:\n",
    "    print(item)   "
   ]
  },
  {
   "cell_type": "code",
   "execution_count": null,
   "id": "2a701dc8-01f8-4aee-86dc-e2cacadea9c7",
   "metadata": {},
   "outputs": [],
   "source": []
  },
  {
   "cell_type": "code",
   "execution_count": 9,
   "id": "bcce87de-abd6-43d6-8f55-4b46549db1d7",
   "metadata": {
    "tags": []
   },
   "outputs": [],
   "source": [
    "import numpy as np\n",
    "\n",
    "from scipy.stats import norm"
   ]
  },
  {
   "cell_type": "code",
   "execution_count": 40,
   "id": "0f716cca-b0c6-4673-9f5c-7996d2a51f35",
   "metadata": {
    "tags": []
   },
   "outputs": [
    {
     "data": {
      "text/plain": [
       "4.056060863275008"
      ]
     },
     "execution_count": 40,
     "metadata": {},
     "output_type": "execute_result"
    }
   ],
   "source": [
    "\n",
    "sample_data.var()"
   ]
  },
  {
   "cell_type": "code",
   "execution_count": null,
   "id": "d0b74592-2cb0-47ea-adbe-05c7dd712c19",
   "metadata": {},
   "outputs": [],
   "source": []
  }
 ],
 "metadata": {
  "kernelspec": {
   "display_name": "Python 3 (ipykernel)",
   "language": "python",
   "name": "python3"
  },
  "language_info": {
   "codemirror_mode": {
    "name": "ipython",
    "version": 3
   },
   "file_extension": ".py",
   "mimetype": "text/x-python",
   "name": "python",
   "nbconvert_exporter": "python",
   "pygments_lexer": "ipython3",
   "version": "3.10.12"
  }
 },
 "nbformat": 4,
 "nbformat_minor": 5
}
